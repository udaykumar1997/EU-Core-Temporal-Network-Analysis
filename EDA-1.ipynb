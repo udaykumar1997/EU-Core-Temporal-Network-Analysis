{
 "cells": [
  {
   "cell_type": "code",
   "execution_count": 1,
   "id": "7936fdac",
   "metadata": {},
   "outputs": [],
   "source": [
    "import pandas as pd\n",
    "import networkx as nx\n",
    "import numpy as np\n",
    "import matplotlib.pyplot as plt\n",
    "import seaborn as sns\n",
    "from datetime import timedelta\n",
    "import os"
   ]
  },
  {
   "cell_type": "markdown",
   "id": "2c472bdb",
   "metadata": {},
   "source": []
  },
  {
   "cell_type": "markdown",
   "id": "f655dbdb",
   "metadata": {},
   "source": [
    "### Load the dataset"
   ]
  },
  {
   "cell_type": "code",
   "execution_count": 8,
   "id": "830c2149",
   "metadata": {},
   "outputs": [],
   "source": [
    "data_dir = 'C:/Users/udayk/OneDrive - stevens.edu/Documents/GitHub/EU-Core-Temporal-Network-Analysis/data'\n",
    "os.chdir(data_dir)\n",
    "filename='email-Eu-core-temporal.txt'"
   ]
  },
  {
   "cell_type": "code",
   "execution_count": 9,
   "id": "a31f20bb",
   "metadata": {},
   "outputs": [],
   "source": [
    "data = pd.read_csv(filename, sep=' ', header=None, names=['u', 'v', 't'])"
   ]
  },
  {
   "cell_type": "code",
   "execution_count": 10,
   "id": "edebea7c",
   "metadata": {},
   "outputs": [],
   "source": [
    "# Convert timestamps to datetime objects\n",
    "data['datetime'] = data['t'].apply(lambda x: timedelta(seconds=x))\n",
    "data = data.drop(columns=['t'])"
   ]
  },
  {
   "cell_type": "code",
   "execution_count": 11,
   "id": "f6ed4a26",
   "metadata": {},
   "outputs": [],
   "source": [
    "G = nx.from_pandas_edgelist(data, source='u', target='v', edge_attr='datetime', create_using=nx.DiGraph())"
   ]
  },
  {
   "cell_type": "code",
   "execution_count": 12,
   "id": "df41a114",
   "metadata": {},
   "outputs": [
    {
     "name": "stdout",
     "output_type": "stream",
     "text": [
      "Number of nodes: 986\n",
      "Number of edges: 24929\n",
      "Average degree: 50.57\n",
      "Network density: 0.0257\n"
     ]
    }
   ],
   "source": [
    "num_nodes = G.number_of_nodes()\n",
    "num_edges = G.number_of_edges()\n",
    "avg_degree = 2 * num_edges / num_nodes\n",
    "density = nx.density(G)\n",
    "\n",
    "print(f'Number of nodes: {num_nodes}')\n",
    "print(f'Number of edges: {num_edges}')\n",
    "print(f'Average degree: {avg_degree:.2f}')\n",
    "print(f'Network density: {density:.4f}')"
   ]
  },
  {
   "cell_type": "code",
   "execution_count": 13,
   "id": "d54875eb",
   "metadata": {},
   "outputs": [],
   "source": [
    "degree_centrality = nx.degree_centrality(G)\n",
    "betweenness_centrality = nx.betweenness_centrality(G)\n",
    "closeness_centrality = nx.closeness_centrality(G)"
   ]
  },
  {
   "cell_type": "code",
   "execution_count": 14,
   "id": "4f6ba2b9",
   "metadata": {},
   "outputs": [
    {
     "name": "stdout",
     "output_type": "stream",
     "text": [
      "Average clustering coefficient: 0.4071\n",
      "Diameter: 7\n",
      "Average path length: 2.59\n"
     ]
    }
   ],
   "source": [
    "# Note: Converting to undirected graph to calculate clustering coefficient, diameter, and average path length\n",
    "G_undirected = G.to_undirected()\n",
    "\n",
    "avg_clustering_coefficient = nx.average_clustering(G_undirected)\n",
    "diameter = nx.diameter(G_undirected)\n",
    "avg_path_length = nx.average_shortest_path_length(G_undirected)\n",
    "\n",
    "print(f'Average clustering coefficient: {avg_clustering_coefficient:.4f}')\n",
    "print(f'Diameter: {diameter}')\n",
    "print(f'Average path length: {avg_path_length:.2f}')"
   ]
  },
  {
   "cell_type": "code",
   "execution_count": 15,
   "id": "d8601886",
   "metadata": {
    "scrolled": true
   },
   "outputs": [
    {
     "data": {
      "image/png": "[encoded data removed]",
      "text/plain": [
       "<Figure size 432x288 with 1 Axes>"
      ]
     },
     "metadata": {
      "needs_background": "light"
     },
     "output_type": "display_data"
    }
   ],
   "source": [
    "degree_values = list(degree_centrality.values())\n",
    "sns.histplot(degree_values, kde=True, bins=20)\n",
    "plt.xlabel('Degree Centrality')\n",
    "plt.ylabel('Frequency')\n",
    "plt.title('Degree Centrality Distribution')\n",
    "plt.savefig('viz-1.png', dpi=300, bbox_inches='tight')\n",
    "plt.show()"
   ]
  },
  {
   "cell_type": "code",
   "execution_count": 16,
   "id": "3711937e",
   "metadata": {
    "scrolled": true
   },
   "outputs": [
    {
     "ename": "KeyboardInterrupt",
     "evalue": "",
     "output_type": "error",
     "traceback": [
      "\u001b[1;31m---------------------------------------------------------------------------\u001b[0m",
      "\u001b[1;31mKeyboardInterrupt\u001b[0m                         Traceback (most recent call last)",
      "\u001b[1;32mc:\\Users\\udayk\\OneDrive - stevens.edu\\Documents\\GitHub\\EU-Core-Temporal-Network-Analysis\\EDA-1.ipynb Cell 12\u001b[0m in \u001b[0;36m<cell line: 3>\u001b[1;34m()\u001b[0m\n\u001b[0;32m      <a href='vscode-notebook-cell:/c%3A/Users/udayk/OneDrive%20-%20stevens.edu/Documents/GitHub/EU-Core-Temporal-Network-Analysis/EDA-1.ipynb#X14sZmlsZQ%3D%3D?line=0'>1</a>\u001b[0m plt\u001b[39m.\u001b[39mfigure(figsize\u001b[39m=\u001b[39m(\u001b[39m10\u001b[39m, \u001b[39m10\u001b[39m))\n\u001b[0;32m      <a href='vscode-notebook-cell:/c%3A/Users/udayk/OneDrive%20-%20stevens.edu/Documents/GitHub/EU-Core-Temporal-Network-Analysis/EDA-1.ipynb#X14sZmlsZQ%3D%3D?line=1'>2</a>\u001b[0m pos \u001b[39m=\u001b[39m nx\u001b[39m.\u001b[39mspring_layout(G, seed\u001b[39m=\u001b[39m\u001b[39m42\u001b[39m)\n\u001b[1;32m----> <a href='vscode-notebook-cell:/c%3A/Users/udayk/OneDrive%20-%20stevens.edu/Documents/GitHub/EU-Core-Temporal-Network-Analysis/EDA-1.ipynb#X14sZmlsZQ%3D%3D?line=2'>3</a>\u001b[0m nx\u001b[39m.\u001b[39;49mdraw(G, pos, node_size\u001b[39m=\u001b[39;49m\u001b[39m50\u001b[39;49m, with_labels\u001b[39m=\u001b[39;49m\u001b[39mFalse\u001b[39;49;00m, alpha\u001b[39m=\u001b[39;49m\u001b[39m0.5\u001b[39;49m, edge_color\u001b[39m=\u001b[39;49m\u001b[39m'\u001b[39;49m\u001b[39mgrey\u001b[39;49m\u001b[39m'\u001b[39;49m)\n\u001b[0;32m      <a href='vscode-notebook-cell:/c%3A/Users/udayk/OneDrive%20-%20stevens.edu/Documents/GitHub/EU-Core-Temporal-Network-Analysis/EDA-1.ipynb#X14sZmlsZQ%3D%3D?line=3'>4</a>\u001b[0m plt\u001b[39m.\u001b[39mtitle(\u001b[39m'\u001b[39m\u001b[39mEmail Network Visualization\u001b[39m\u001b[39m'\u001b[39m)\n\u001b[0;32m      <a href='vscode-notebook-cell:/c%3A/Users/udayk/OneDrive%20-%20stevens.edu/Documents/GitHub/EU-Core-Temporal-Network-Analysis/EDA-1.ipynb#X14sZmlsZQ%3D%3D?line=4'>5</a>\u001b[0m plt\u001b[39m.\u001b[39msavefig(\u001b[39m'\u001b[39m\u001b[39mviz-1.png\u001b[39m\u001b[39m'\u001b[39m, dpi\u001b[39m=\u001b[39m\u001b[39m300\u001b[39m, bbox_inches\u001b[39m=\u001b[39m\u001b[39m'\u001b[39m\u001b[39mtight\u001b[39m\u001b[39m'\u001b[39m)\n",
      "File \u001b[1;32mc:\\Users\\udayk\\anaconda3\\lib\\site-packages\\networkx\\drawing\\nx_pylab.py:121\u001b[0m, in \u001b[0;36mdraw\u001b[1;34m(G, pos, ax, **kwds)\u001b[0m\n\u001b[0;32m    118\u001b[0m \u001b[39mif\u001b[39;00m \u001b[39m\"\u001b[39m\u001b[39mwith_labels\u001b[39m\u001b[39m\"\u001b[39m \u001b[39mnot\u001b[39;00m \u001b[39min\u001b[39;00m kwds:\n\u001b[0;32m    119\u001b[0m     kwds[\u001b[39m\"\u001b[39m\u001b[39mwith_labels\u001b[39m\u001b[39m\"\u001b[39m] \u001b[39m=\u001b[39m \u001b[39m\"\u001b[39m\u001b[39mlabels\u001b[39m\u001b[39m\"\u001b[39m \u001b[39min\u001b[39;00m kwds\n\u001b[1;32m--> 121\u001b[0m draw_networkx(G, pos\u001b[39m=\u001b[39mpos, ax\u001b[39m=\u001b[39max, \u001b[39m*\u001b[39m\u001b[39m*\u001b[39mkwds)\n\u001b[0;32m    122\u001b[0m ax\u001b[39m.\u001b[39mset_axis_off()\n\u001b[0;32m    123\u001b[0m plt\u001b[39m.\u001b[39mdraw_if_interactive()\n",
      "File \u001b[1;32mc:\\Users\\udayk\\anaconda3\\lib\\site-packages\\networkx\\drawing\\nx_pylab.py:304\u001b[0m, in \u001b[0;36mdraw_networkx\u001b[1;34m(G, pos, arrows, with_labels, **kwds)\u001b[0m\n\u001b[0;32m    301\u001b[0m     pos \u001b[39m=\u001b[39m nx\u001b[39m.\u001b[39mdrawing\u001b[39m.\u001b[39mspring_layout(G)  \u001b[39m# default to spring layout\u001b[39;00m\n\u001b[0;32m    303\u001b[0m draw_networkx_nodes(G, pos, \u001b[39m*\u001b[39m\u001b[39m*\u001b[39mnode_kwds)\n\u001b[1;32m--> 304\u001b[0m draw_networkx_edges(G, pos, arrows\u001b[39m=\u001b[39marrows, \u001b[39m*\u001b[39m\u001b[39m*\u001b[39medge_kwds)\n\u001b[0;32m    305\u001b[0m \u001b[39mif\u001b[39;00m with_labels:\n\u001b[0;32m    306\u001b[0m     draw_networkx_labels(G, pos, \u001b[39m*\u001b[39m\u001b[39m*\u001b[39mlabel_kwds)\n",
      "File \u001b[1;32mc:\\Users\\udayk\\anaconda3\\lib\\site-packages\\networkx\\drawing\\nx_pylab.py:908\u001b[0m, in \u001b[0;36mdraw_networkx_edges\u001b[1;34m(G, pos, edgelist, width, edge_color, style, alpha, arrowstyle, arrowsize, edge_cmap, edge_vmin, edge_vmax, ax, arrows, label, node_size, nodelist, node_shape, connectionstyle, min_source_margin, min_target_margin)\u001b[0m\n\u001b[0;32m    906\u001b[0m \u001b[39melse\u001b[39;00m:\n\u001b[0;32m    907\u001b[0m     fancy_edges_indices \u001b[39m=\u001b[39m \u001b[39mrange\u001b[39m(\u001b[39mlen\u001b[39m(edgelist))\n\u001b[1;32m--> 908\u001b[0m     edge_viz_obj \u001b[39m=\u001b[39m _draw_networkx_edges_fancy_arrow_patch()\n\u001b[0;32m    910\u001b[0m \u001b[39m# update view after drawing\u001b[39;00m\n\u001b[0;32m    911\u001b[0m padx, pady \u001b[39m=\u001b[39m \u001b[39m0.05\u001b[39m \u001b[39m*\u001b[39m w, \u001b[39m0.05\u001b[39m \u001b[39m*\u001b[39m h\n",
      "File \u001b[1;32mc:\\Users\\udayk\\anaconda3\\lib\\site-packages\\networkx\\drawing\\nx_pylab.py:882\u001b[0m, in \u001b[0;36mdraw_networkx_edges.<locals>._draw_networkx_edges_fancy_arrow_patch\u001b[1;34m()\u001b[0m\n\u001b[0;32m    867\u001b[0m     arrow \u001b[39m=\u001b[39m mpl\u001b[39m.\u001b[39mpatches\u001b[39m.\u001b[39mFancyArrowPatch(\n\u001b[0;32m    868\u001b[0m         (x1, y1),\n\u001b[0;32m    869\u001b[0m         (x2, y2),\n\u001b[1;32m   (...)\u001b[0m\n\u001b[0;32m    878\u001b[0m         zorder\u001b[39m=\u001b[39m\u001b[39m1\u001b[39m,\n\u001b[0;32m    879\u001b[0m     )  \u001b[39m# arrows go behind nodes\u001b[39;00m\n\u001b[0;32m    881\u001b[0m     arrow_collection\u001b[39m.\u001b[39mappend(arrow)\n\u001b[1;32m--> 882\u001b[0m     ax\u001b[39m.\u001b[39;49madd_patch(arrow)\n\u001b[0;32m    884\u001b[0m \u001b[39mreturn\u001b[39;00m arrow_collection\n",
      "File \u001b[1;32mc:\\Users\\udayk\\anaconda3\\lib\\site-packages\\matplotlib\\axes\\_base.py:2357\u001b[0m, in \u001b[0;36m_AxesBase.add_patch\u001b[1;34m(self, p)\u001b[0m\n\u001b[0;32m   2355\u001b[0m \u001b[39mself\u001b[39m\u001b[39m.\u001b[39m_set_artist_props(p)\n\u001b[0;32m   2356\u001b[0m \u001b[39mif\u001b[39;00m p\u001b[39m.\u001b[39mget_clip_path() \u001b[39mis\u001b[39;00m \u001b[39mNone\u001b[39;00m:\n\u001b[1;32m-> 2357\u001b[0m     p\u001b[39m.\u001b[39;49mset_clip_path(\u001b[39mself\u001b[39;49m\u001b[39m.\u001b[39;49mpatch)\n\u001b[0;32m   2358\u001b[0m \u001b[39mself\u001b[39m\u001b[39m.\u001b[39m_update_patch_limits(p)\n\u001b[0;32m   2359\u001b[0m \u001b[39mself\u001b[39m\u001b[39m.\u001b[39m_children\u001b[39m.\u001b[39mappend(p)\n",
      "File \u001b[1;32mc:\\Users\\udayk\\anaconda3\\lib\\site-packages\\matplotlib\\artist.py:790\u001b[0m, in \u001b[0;36mArtist.set_clip_path\u001b[1;34m(self, path, transform)\u001b[0m\n\u001b[0;32m    787\u001b[0m \u001b[39mif\u001b[39;00m transform \u001b[39mis\u001b[39;00m \u001b[39mNone\u001b[39;00m:\n\u001b[0;32m    788\u001b[0m     \u001b[39mif\u001b[39;00m \u001b[39misinstance\u001b[39m(path, Rectangle):\n\u001b[0;32m    789\u001b[0m         \u001b[39mself\u001b[39m\u001b[39m.\u001b[39mclipbox \u001b[39m=\u001b[39m TransformedBbox(Bbox\u001b[39m.\u001b[39munit(),\n\u001b[1;32m--> 790\u001b[0m                                        path\u001b[39m.\u001b[39;49mget_transform())\n\u001b[0;32m    791\u001b[0m         \u001b[39mself\u001b[39m\u001b[39m.\u001b[39m_clippath \u001b[39m=\u001b[39m \u001b[39mNone\u001b[39;00m\n\u001b[0;32m    792\u001b[0m         success \u001b[39m=\u001b[39m \u001b[39mTrue\u001b[39;00m\n",
      "File \u001b[1;32mc:\\Users\\udayk\\anaconda3\\lib\\site-packages\\matplotlib\\patches.py:278\u001b[0m, in \u001b[0;36mPatch.get_transform\u001b[1;34m(self)\u001b[0m\n\u001b[0;32m    276\u001b[0m \u001b[39mdef\u001b[39;00m \u001b[39mget_transform\u001b[39m(\u001b[39mself\u001b[39m):\n\u001b[0;32m    277\u001b[0m     \u001b[39m\"\"\"Return the `~.transforms.Transform` applied to the `Patch`.\"\"\"\u001b[39;00m\n\u001b[1;32m--> 278\u001b[0m     \u001b[39mreturn\u001b[39;00m \u001b[39mself\u001b[39;49m\u001b[39m.\u001b[39;49mget_patch_transform() \u001b[39m+\u001b[39m artist\u001b[39m.\u001b[39mArtist\u001b[39m.\u001b[39mget_transform(\u001b[39mself\u001b[39m)\n",
      "File \u001b[1;32mc:\\Users\\udayk\\anaconda3\\lib\\site-packages\\matplotlib\\patches.py:754\u001b[0m, in \u001b[0;36mRectangle.get_patch_transform\u001b[1;34m(self)\u001b[0m\n\u001b[0;32m    747\u001b[0m \u001b[39mdef\u001b[39;00m \u001b[39mget_patch_transform\u001b[39m(\u001b[39mself\u001b[39m):\n\u001b[0;32m    748\u001b[0m     \u001b[39m# Note: This cannot be called until after this has been added to\u001b[39;00m\n\u001b[0;32m    749\u001b[0m     \u001b[39m# an Axes, otherwise unit conversion will fail. This makes it very\u001b[39;00m\n\u001b[0;32m    750\u001b[0m     \u001b[39m# important to call the accessor method and not directly access the\u001b[39;00m\n\u001b[0;32m    751\u001b[0m     \u001b[39m# transformation member variable.\u001b[39;00m\n\u001b[0;32m    752\u001b[0m     bbox \u001b[39m=\u001b[39m \u001b[39mself\u001b[39m\u001b[39m.\u001b[39mget_bbox()\n\u001b[0;32m    753\u001b[0m     \u001b[39mreturn\u001b[39;00m (transforms\u001b[39m.\u001b[39mBboxTransformTo(bbox)\n\u001b[1;32m--> 754\u001b[0m             \u001b[39m+\u001b[39m transforms\u001b[39m.\u001b[39;49mAffine2D()\u001b[39m.\u001b[39;49mrotate_deg_around(\n\u001b[0;32m    755\u001b[0m                 bbox\u001b[39m.\u001b[39;49mx0, bbox\u001b[39m.\u001b[39;49my0, \u001b[39mself\u001b[39;49m\u001b[39m.\u001b[39;49mangle))\n",
      "File \u001b[1;32mc:\\Users\\udayk\\anaconda3\\lib\\site-packages\\matplotlib\\transforms.py:2042\u001b[0m, in \u001b[0;36mAffine2D.rotate_deg_around\u001b[1;34m(self, x, y, degrees)\u001b[0m\n\u001b[0;32m   2040\u001b[0m \u001b[39m# Cast to float to avoid wraparound issues with uint8's\u001b[39;00m\n\u001b[0;32m   2041\u001b[0m x, y \u001b[39m=\u001b[39m \u001b[39mfloat\u001b[39m(x), \u001b[39mfloat\u001b[39m(y)\n\u001b[1;32m-> 2042\u001b[0m \u001b[39mreturn\u001b[39;00m \u001b[39mself\u001b[39;49m\u001b[39m.\u001b[39;49mtranslate(\u001b[39m-\u001b[39;49mx, \u001b[39m-\u001b[39;49my)\u001b[39m.\u001b[39;49mrotate_deg(degrees)\u001b[39m.\u001b[39mtranslate(x, y)\n",
      "File \u001b[1;32mc:\\Users\\udayk\\anaconda3\\lib\\site-packages\\matplotlib\\transforms.py:2020\u001b[0m, in \u001b[0;36mAffine2D.rotate_deg\u001b[1;34m(self, degrees)\u001b[0m\n\u001b[0;32m   2012\u001b[0m \u001b[39mdef\u001b[39;00m \u001b[39mrotate_deg\u001b[39m(\u001b[39mself\u001b[39m, degrees):\n\u001b[0;32m   2013\u001b[0m     \u001b[39m\"\"\"\u001b[39;00m\n\u001b[0;32m   2014\u001b[0m \u001b[39m    Add a rotation (in degrees) to this transform in place.\u001b[39;00m\n\u001b[0;32m   2015\u001b[0m \n\u001b[1;32m   (...)\u001b[0m\n\u001b[0;32m   2018\u001b[0m \u001b[39m    and :meth:`scale`.\u001b[39;00m\n\u001b[0;32m   2019\u001b[0m \u001b[39m    \"\"\"\u001b[39;00m\n\u001b[1;32m-> 2020\u001b[0m     \u001b[39mreturn\u001b[39;00m \u001b[39mself\u001b[39;49m\u001b[39m.\u001b[39;49mrotate(math\u001b[39m.\u001b[39;49mradians(degrees))\n",
      "File \u001b[1;32mc:\\Users\\udayk\\anaconda3\\lib\\site-packages\\matplotlib\\transforms.py:2008\u001b[0m, in \u001b[0;36mAffine2D.rotate\u001b[1;34m(self, theta)\u001b[0m\n\u001b[0;32m   2005\u001b[0m b \u001b[39m=\u001b[39m math\u001b[39m.\u001b[39msin(theta)\n\u001b[0;32m   2006\u001b[0m rotate_mtx \u001b[39m=\u001b[39m np\u001b[39m.\u001b[39marray([[a, \u001b[39m-\u001b[39mb, \u001b[39m0.0\u001b[39m], [b, a, \u001b[39m0.0\u001b[39m], [\u001b[39m0.0\u001b[39m, \u001b[39m0.0\u001b[39m, \u001b[39m1.0\u001b[39m]],\n\u001b[0;32m   2007\u001b[0m                       \u001b[39mfloat\u001b[39m)\n\u001b[1;32m-> 2008\u001b[0m \u001b[39mself\u001b[39m\u001b[39m.\u001b[39m_mtx \u001b[39m=\u001b[39m np\u001b[39m.\u001b[39;49mdot(rotate_mtx, \u001b[39mself\u001b[39;49m\u001b[39m.\u001b[39;49m_mtx)\n\u001b[0;32m   2009\u001b[0m \u001b[39mself\u001b[39m\u001b[39m.\u001b[39minvalidate()\n\u001b[0;32m   2010\u001b[0m \u001b[39mreturn\u001b[39;00m \u001b[39mself\u001b[39m\n",
      "File \u001b[1;32m<__array_function__ internals>:5\u001b[0m, in \u001b[0;36mdot\u001b[1;34m(*args, **kwargs)\u001b[0m\n",
      "\u001b[1;31mKeyboardInterrupt\u001b[0m: "
     ]
    }
   ],
   "source": [
    "plt.figure(figsize=(10, 10))\n",
    "pos = nx.spring_layout(G, seed=42)\n",
    "nx.draw(G, pos, node_size=50, with_labels=False, alpha=0.5, edge_color='grey')\n",
    "plt.title('Email Network Visualization')\n",
    "plt.savefig('viz-1.png', dpi=300, bbox_inches='tight')\n",
    "plt.show()"
   ]
  },
  {
   "cell_type": "code",
   "execution_count": null,
   "id": "2ed5191c",
   "metadata": {
    "scrolled": true
   },
   "outputs": [],
   "source": [
    "dept_counts = data.groupby('u').apply(lambda x: x['v'].nunique()).reset_index()\n",
    "dept_counts.columns = ['Node ID', 'Department Size']\n",
    "\n",
    "plt.figure(figsize=(8, 6))\n",
    "sns.barplot(x='Node ID', y='Department Size', data=dept_counts)\n",
    "plt.xlabel('Department ID')\n",
    "plt.ylabel('Number of Individuals')\n",
    "plt.title('Analysis of Individual Team Communication')\n",
    "plt.savefig('viz-3.png', dpi=300, bbox_inches='tight')\n",
    "plt.show()"
   ]
  },
  {
   "cell_type": "code",
   "execution_count": null,
   "id": "e91ab9e5",
   "metadata": {},
   "outputs": [],
   "source": [
    "dept_counts = data.groupby('u_dept').apply(lambda x: x['v'].nunique()).reset_index()\n",
    "dept_counts.columns = ['Department ID', 'Department Size']\n",
    "\n",
    "plt.figure(figsize=(8, 6))\n",
    "sns.barplot(x='Department ID', y='Department Size', data=dept_counts)\n",
    "plt.xlabel('Department ID')\n",
    "plt.ylabel('Number of Individuals')\n",
    "plt.title(\"Number of Individuals in Each Department (ONLY 4)\")\n",
    "plt.savefig('viz-32.png', dpi=300, bbox_inches='tight')\n",
    "plt.show()\n"
   ]
  },
  {
   "cell_type": "code",
   "execution_count": null,
   "id": "1f4a47b3",
   "metadata": {},
   "outputs": [],
   "source": [
    "# Resample data by day and count the number of emails sent each day\n",
    "daily_email_counts = data.groupby(pd.Grouper(key='datetime', freq='D'))['datetime'].count()\n",
    "\n",
    "# Reshape data to pivot table format for heatmap\n",
    "daily_email_counts = pd.DataFrame(daily_email_counts).reset_index()\n",
    "daily_email_counts.columns = ['Date', 'Email Count']\n",
    "daily_email_counts['Day of Week'] = daily_email_counts['Date'].dt.dayofweek\n",
    "daily_email_counts['Weekend'] = daily_email_counts['Day of Week'].isin([5, 6])\n",
    "\n",
    "# Create heatmap of email counts by date and day of week\n",
    "plt.figure(figsize=(12, 6))\n",
    "email_counts_by_day = pd.pivot_table(daily_email_counts, values='Email Count', index='Weekend', columns='Day of Week')\n",
    "sns.heatmap(email_counts_by_day, cmap='Blues', annot=True, fmt='g', cbar=False)\n",
    "plt.xlabel('Day of Week')\n",
    "plt.ylabel('')\n",
    "plt.title('Email Counts by Date and Day of Week')\n",
    "plt.savefig('viz-4.png', dpi=300, bbox_inches='tight')\n",
    "plt.show()"
   ]
  },
  {
   "cell_type": "code",
   "execution_count": null,
   "id": "2612f345",
   "metadata": {},
   "outputs": [],
   "source": [
    "degree_centrality = nx.degree_centrality(G)\n",
    "\n",
    "degree_df = pd.DataFrame(list(degree_centrality.items()), columns=['Node ID', 'Degree Centrality'])\n",
    "\n",
    "plt.figure(figsize=(8, 6))\n",
    "sns.scatterplot(data=degree_df, x='Node ID', y='Degree Centrality')\n",
    "plt.xlabel('Node ID')\n",
    "plt.ylabel('Degree Centrality')\n",
    "plt.title('Node Degree Centrality Scatter Plot')\n",
    "plt.savefig('viz-5.png', dpi=300, bbox_inches='tight')\n",
    "plt.show()\n"
   ]
  },
  {
   "cell_type": "code",
   "execution_count": null,
   "id": "99d1933d",
   "metadata": {},
   "outputs": [],
   "source": [
    "degree_centrality = nx.degree_centrality(G)\n",
    "\n",
    "node_sizes = [degree_centrality[node] * 500 for node in G.nodes()]\n",
    "node_colors = [degree_centrality[node] for node in G.nodes()]\n",
    "\n",
    "plt.figure(figsize=(10, 10))\n",
    "pos = nx.spring_layout(G, seed=42)\n",
    "\n",
    "# Use scatter plot instead of nx.draw\n",
    "plt.scatter(*zip(*pos.values()), s=node_sizes, c=node_colors, cmap='Reds', alpha=0.5)\n",
    "\n",
    "plt.colorbar(label='Degree Centrality')\n",
    "plt.title('Node Size and Color-coded by Degree Centrality')\n",
    "plt.savefig('viz-6.png', dpi=300, bbox_inches='tight')\n",
    "plt.show()\n"
   ]
  },
  {
   "cell_type": "code",
   "execution_count": null,
   "id": "cc04bd78",
   "metadata": {
    "scrolled": true
   },
   "outputs": [],
   "source": [
    "data = pd.read_csv(filename, sep=' ', header=None, names=['u', 'v', 't'])\n",
    "\n",
    "# Convert timestamps to datetime objects\n",
    "data['datetime'] = data['t'].apply(lambda x: timedelta(seconds=x))\n",
    "data = data.drop(columns=['t'])\n",
    "\n",
    "# Create department column based on node IDs\n",
    "dept1_nodes = range(1, 310)\n",
    "dept2_nodes = range(310, 473)\n",
    "dept3_nodes = range(473, 562)\n",
    "dept4_nodes = range(562, 704)\n",
    "\n",
    "data.loc[data['u'].isin(dept1_nodes), 'u_dept'] = 'Dept1'\n",
    "data.loc[data['u'].isin(dept2_nodes), 'u_dept'] = 'Dept2'\n",
    "data.loc[data['u'].isin(dept3_nodes), 'u_dept'] = 'Dept3'\n",
    "data.loc[data['u'].isin(dept4_nodes), 'u_dept'] = 'Dept4'"
   ]
  },
  {
   "cell_type": "code",
   "execution_count": null,
   "id": "2cbd0e82",
   "metadata": {},
   "outputs": [],
   "source": [
    "plt.figure(figsize=(10, 6))\n",
    "dept_counts = data['u_dept'].value_counts()\n",
    "dept_counts.plot(kind='bar', color=['#1f77b4', '#ff7f0e', '#2ca02c', '#d62728'])\n",
    "plt.xticks(rotation=0)\n",
    "plt.xlabel('Department')\n",
    "plt.ylabel('Email Frequency')\n",
    "plt.title('Departmental Email Frequency')\n",
    "plt.show()\n"
   ]
  },
  {
   "cell_type": "code",
   "execution_count": null,
   "id": "7f84afcb",
   "metadata": {},
   "outputs": [],
   "source": [
    "plt.figure(figsize=(10, 6))\n",
    "time_counts = data.groupby('datetime').size().reset_index(name='count')\n",
    "plt.plot(time_counts['datetime'], time_counts['count'])\n",
    "plt.xlabel('Time')\n",
    "plt.ylabel('Email Frequency')\n",
    "plt.title('Email Frequency by Time')\n",
    "plt.show()\n"
   ]
  },
  {
   "cell_type": "code",
   "execution_count": null,
   "id": "4e802d0c",
   "metadata": {},
   "outputs": [],
   "source": [
    "plt.figure(figsize=(10, 6))\n",
    "time_counts = data.groupby('datetime').size().reset_index(name='count')\n",
    "time_counts['day'] = time_counts['datetime'].dt.day\n",
    "time_counts = time_counts.groupby('day')['count'].sum().reset_index(name='count')\n",
    "plt.plot(time_counts['day'], time_counts['count'])\n",
    "plt.xlabel('Day')\n",
    "plt.ylabel('Email Frequency')\n",
    "plt.title('Email Frequency by Time')\n",
    "plt.show()\n"
   ]
  },
  {
   "cell_type": "code",
   "execution_count": null,
   "id": "388ec2b3",
   "metadata": {
    "scrolled": true
   },
   "outputs": [],
   "source": [
    "plt.figure(figsize=(10, 6))\n",
    "time_counts = data.groupby('datetime').size().reset_index(name='count')\n",
    "time_counts['day'] = time_counts['datetime'].apply(lambda x: x.total_seconds()//(24*3600))\n",
    "time_counts = time_counts.groupby('day')['count'].sum().reset_index(name='count')\n",
    "plt.plot(time_counts['day'], time_counts['count'])\n",
    "plt.xlabel('Day')\n",
    "plt.ylabel('Email Frequency')\n",
    "plt.title('Email Frequency by Time')\n",
    "plt.savefig('viz-8.png', dpi=300, bbox_inches='tight')\n",
    "plt.show()\n"
   ]
  },
  {
   "cell_type": "code",
   "execution_count": null,
   "id": "453631a5",
   "metadata": {},
   "outputs": [],
   "source": []
  }
 ],
 "metadata": {
  "kernelspec": {
   "display_name": "Python 3 (ipykernel)",
   "language": "python",
   "name": "python3"
  },
  "language_info": {
   "codemirror_mode": {
    "name": "ipython",
    "version": 3
   },
   "file_extension": ".py",
   "mimetype": "text/x-python",
   "name": "python",
   "nbconvert_exporter": "python",
   "pygments_lexer": "ipython3",
   "version": "3.9.12"
  }
 },
 "nbformat": 4,
 "nbformat_minor": 5
}
