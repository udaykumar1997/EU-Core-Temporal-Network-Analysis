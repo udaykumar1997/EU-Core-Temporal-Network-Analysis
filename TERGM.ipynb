{
 "cells": [
  {
   "cell_type": "code",
   "execution_count": 1,
   "metadata": {},
   "outputs": [],
   "source": [
    "import pandas as pd\n",
    "import rpy2.robjects as ro\n",
    "from rpy2.robjects.packages import importr\n",
    "from rpy2.robjects import pandas2ri"
   ]
  },
  {
   "cell_type": "code",
   "execution_count": 2,
   "id": "8048b05e",
   "metadata": {},
   "outputs": [],
   "source": [
    "import pandas as pd\n",
    "import networkx as nx\n",
    "from networkx.algorithms import bipartite\n",
    "import numpy as np\n",
    "import matplotlib.pyplot as plt\n",
    "import seaborn as sns\n",
    "from datetime import timedelta\n",
    "import os"
   ]
  },
  {
   "cell_type": "code",
   "execution_count": 3,
   "id": "67eb5f4b",
   "metadata": {},
   "outputs": [],
   "source": [
    "data_dir = 'C:/Users/udayk/OneDrive - stevens.edu/Documents/GitHub/sna-project/data'\n",
    "os.chdir(data_dir)\n",
    "filename='email-Eu-core-temporal.txt'\n",
    "# Read the dataset\n",
    "data = pd.read_csv(filename, delimiter=\" \", header=None, names=[\"node1\", \"node2\", \"weight\"])"
   ]
  },
  {
   "cell_type": "code",
   "execution_count": 4,
   "id": "373a032d",
   "metadata": {},
   "outputs": [
    {
     "ename": "Exception",
     "evalue": "Use the converter's method context instead.",
     "output_type": "error",
     "traceback": [
      "\u001b[1;31m---------------------------------------------------------------------------\u001b[0m",
      "\u001b[1;31mException\u001b[0m                                 Traceback (most recent call last)",
      "\u001b[1;32mc:\\Users\\udayk\\OneDrive - stevens.edu\\Documents\\GitHub\\sna-project\\TERGM.ipynb Cell 4\u001b[0m in \u001b[0;36m<cell line: 3>\u001b[1;34m()\u001b[0m\n\u001b[0;32m      <a href='vscode-notebook-cell:/c%3A/Users/udayk/OneDrive%20-%20stevens.edu/Documents/GitHub/sna-project/TERGM.ipynb#W2sZmlsZQ%3D%3D?line=0'>1</a>\u001b[0m \u001b[39m# Convert the data frame to an R data frame\u001b[39;00m\n\u001b[0;32m      <a href='vscode-notebook-cell:/c%3A/Users/udayk/OneDrive%20-%20stevens.edu/Documents/GitHub/sna-project/TERGM.ipynb#W2sZmlsZQ%3D%3D?line=1'>2</a>\u001b[0m pandas2ri\u001b[39m.\u001b[39mactivate()\n\u001b[1;32m----> <a href='vscode-notebook-cell:/c%3A/Users/udayk/OneDrive%20-%20stevens.edu/Documents/GitHub/sna-project/TERGM.ipynb#W2sZmlsZQ%3D%3D?line=2'>3</a>\u001b[0m \u001b[39mwith\u001b[39;00m pandas2ri\u001b[39m.\u001b[39mconverter:\n\u001b[0;32m      <a href='vscode-notebook-cell:/c%3A/Users/udayk/OneDrive%20-%20stevens.edu/Documents/GitHub/sna-project/TERGM.ipynb#W2sZmlsZQ%3D%3D?line=3'>4</a>\u001b[0m     r_data \u001b[39m=\u001b[39m ro\u001b[39m.\u001b[39mconversion\u001b[39m.\u001b[39mpy2rpy(data)\n",
      "File \u001b[1;32mc:\\Users\\udayk\\anaconda3\\lib\\site-packages\\rpy2\\robjects\\conversion.py:322\u001b[0m, in \u001b[0;36mConverter.__enter__\u001b[1;34m(self)\u001b[0m\n\u001b[0;32m    321\u001b[0m \u001b[39mdef\u001b[39;00m \u001b[39m__enter__\u001b[39m(\u001b[39mself\u001b[39m):\n\u001b[1;32m--> 322\u001b[0m     \u001b[39mraise\u001b[39;00m \u001b[39mException\u001b[39;00m(\n\u001b[0;32m    323\u001b[0m         \u001b[39m\"\u001b[39m\u001b[39mUse the converter\u001b[39m\u001b[39m'\u001b[39m\u001b[39ms method context instead.\u001b[39m\u001b[39m\"\u001b[39m\n\u001b[0;32m    324\u001b[0m     )\n",
      "\u001b[1;31mException\u001b[0m: Use the converter's method context instead."
     ]
    }
   ],
   "source": [
    "# Convert the data frame to an R data frame\n",
    "pandas2ri.activate()\n",
    "with pandas2ri.converter:\n",
    "    r_data = ro.conversion.py2rpy(data)"
   ]
  },
  {
   "cell_type": "code",
   "execution_count": null,
   "id": "1f5c6c8b",
   "metadata": {},
   "outputs": [],
   "source": [
    "# Install and import the required R packages\n",
    "tsna = importr(\"tsna\")\n",
    "tergm = importr(\"tergm\")"
   ]
  },
  {
   "cell_type": "code",
   "execution_count": null,
   "id": "2eb9d49d",
   "metadata": {},
   "outputs": [],
   "source": [
    "# Create an R 'networkDynamic' object\n",
    "r_edges = r(\"as.matrix\")(r_data)\n",
    "r_graph = tsna.networkDynamic(edgeLL = r_edges, directed = True)"
   ]
  },
  {
   "cell_type": "code",
   "execution_count": null,
   "id": "ed90f9a4",
   "metadata": {},
   "outputs": [],
   "source": []
  },
  {
   "cell_type": "code",
   "execution_count": null,
   "id": "1e68e5d3",
   "metadata": {},
   "outputs": [],
   "source": [
    "# Fit a TERGM\n",
    "ergm_formula = \"edges + nodecov('time') + nodemix('time')\"\n",
    "tergm_model = tergm.tergm(r_graph ~ ergm_formula)\n",
    "print(tergm_model)"
   ]
  },
  {
   "cell_type": "code",
   "execution_count": null,
   "id": "04367c38",
   "metadata": {},
   "outputs": [],
   "source": []
  }
 ],
 "metadata": {
  "kernelspec": {
   "display_name": "Python 3 (ipykernel)",
   "language": "python",
   "name": "python3"
  },
  "language_info": {
   "codemirror_mode": {
    "name": "ipython",
    "version": 3
   },
   "file_extension": ".py",
   "mimetype": "text/x-python",
   "name": "python",
   "nbconvert_exporter": "python",
   "pygments_lexer": "ipython3",
   "version": "3.9.12"
  }
 },
 "nbformat": 4,
 "nbformat_minor": 5
}
