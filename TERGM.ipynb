{
 "cells": [
  {
   "cell_type": "code",
   "execution_count": null,
   "metadata": {},
   "outputs": [],
   "source": [
    "import pandas as pd\n",
    "import rpy2.robjects as ro\n",
    "from rpy2.robjects.packages import importr\n",
    "from rpy2.robjects import pandas2ri"
   ]
  },
  {
   "cell_type": "code",
   "execution_count": null,
   "id": "670a8dde",
   "metadata": {},
   "outputs": [],
   "source": [
    "# Read the dataset\n",
    "data = pd.read_csv(\"data.txt\", delimiter=\" \", header=None, names=[\"node1\", \"node2\", \"time\"])"
   ]
  },
  {
   "cell_type": "code",
   "execution_count": null,
   "id": "373a032d",
   "metadata": {},
   "outputs": [],
   "source": [
    "# Convert the data frame to an R data frame\n",
    "pandas2ri.activate()\n",
    "with pandas2ri.converter:\n",
    "    r_data = ro.conversion.py2rpy(data)"
   ]
  },
  {
   "cell_type": "code",
   "execution_count": null,
   "id": "1f5c6c8b",
   "metadata": {},
   "outputs": [],
   "source": [
    "# Install and import the required R packages\n",
    "tsna = importr(\"tsna\")\n",
    "tergm = importr(\"tergm\")"
   ]
  },
  {
   "cell_type": "code",
   "execution_count": null,
   "id": "2eb9d49d",
   "metadata": {},
   "outputs": [],
   "source": [
    "# Create an R 'networkDynamic' object\n",
    "r_edges = r(\"as.matrix\")(r_data)\n",
    "r_graph = tsna.networkDynamic(edgeLL = r_edges, directed = True)"
   ]
  },
  {
   "cell_type": "code",
   "execution_count": null,
   "id": "ed90f9a4",
   "metadata": {},
   "outputs": [],
   "source": []
  },
  {
   "cell_type": "code",
   "execution_count": null,
   "id": "1e68e5d3",
   "metadata": {},
   "outputs": [],
   "source": [
    "# Fit a TERGM\n",
    "ergm_formula = \"edges + nodecov('time') + nodemix('time')\"\n",
    "tergm_model = tergm.tergm(r_graph ~ ergm_formula)\n",
    "print(tergm_model)"
   ]
  },
  {
   "cell_type": "code",
   "execution_count": null,
   "id": "04367c38",
   "metadata": {},
   "outputs": [],
   "source": []
  }
 ],
 "metadata": {
  "kernelspec": {
   "display_name": "Python 3 (ipykernel)",
   "language": "python",
   "name": "python3"
  },
  "language_info": {
   "codemirror_mode": {
    "name": "ipython",
    "version": 3
   },
   "file_extension": ".py",
   "mimetype": "text/x-python",
   "name": "python",
   "nbconvert_exporter": "python",
   "pygments_lexer": "ipython3",
   "version": "3.9.12"
  }
 },
 "nbformat": 4,
 "nbformat_minor": 5
}
