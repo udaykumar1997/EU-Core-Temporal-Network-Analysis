{
 "cells": [
  {
   "cell_type": "code",
   "execution_count": null,
   "id": "8686e1d7",
   "metadata": {
    "vscode": {
     "languageId": "plaintext"
    }
   },
   "outputs": [],
   "source": [
    "import pandas as pd\n",
    "import networkx as nx\n",
    "from networkx.algorithms import bipartite\n",
    "import numpy as np"
   ]
  },
  {
   "cell_type": "code",
   "execution_count": null,
   "id": "051534b6",
   "metadata": {
    "vscode": {
     "languageId": "plaintext"
    }
   },
   "outputs": [],
   "source": [
    "# Read the dataset\n",
    "data = pd.read_csv(\"data.txt\", delimiter=\" \", header=None, names=[\"node1\", \"node2\", \"weight\"])\n",
    "\n",
    "# Create a graph\n",
    "G = nx.Graph()"
   ]
  },
  {
   "cell_type": "code",
   "execution_count": null,
   "id": "efd3fab1",
   "metadata": {
    "vscode": {
     "languageId": "plaintext"
    }
   },
   "outputs": [],
   "source": [
    "# Add edges with weight attribute\n",
    "for idx, row in data.iterrows():\n",
    "    G.add_edge(row[\"node1\"], row[\"node2\"], weight=row[\"weight\"])\n",
    "\n",
    "# Calculate some network metrics\n",
    "num_nodes = G.number_of_nodes()\n",
    "num_edges = G.number_of_edges()\n",
    "density = nx.density(G)\n",
    "degree_distribution = dict(G.degree())\n",
    "average_degree = np.mean(list(degree_distribution.values()))"
   ]
  },
  {
   "cell_type": "code",
   "execution_count": null,
   "id": "06b7c5f2",
   "metadata": {
    "vscode": {
     "languageId": "plaintext"
    }
   },
   "outputs": [],
   "source": [
    "# Print metrics\n",
    "print(f\"Number of nodes: {num_nodes}\")\n",
    "print(f\"Number of edges: {num_edges}\")\n",
    "print(f\"Density: {density}\")\n",
    "print(f\"Average degree: {average_degree}\")\n",
    "\n",
    "# Perform ERGM\n",
    "# ERGM is currently not supported directly in NetworkX, but you can use the R package `statnet` with the `rpy2` package to call R functions from Python\n",
    "# Installation: pip install rpy2\n",
    "# In R: install.packages('statnet')"
   ]
  },
  {
   "cell_type": "code",
   "execution_count": null,
   "id": "d01ed5e8",
   "metadata": {
    "vscode": {
     "languageId": "plaintext"
    }
   },
   "outputs": [],
   "source": [
    "import rpy2.robjects as ro\n",
    "from rpy2.robjects.packages import importr\n",
    "from rpy2.robjects import r, pandas2ri\n",
    "from rpy2.robjects.conversion import localconverter"
   ]
  },
  {
   "cell_type": "code",
   "execution_count": null,
   "id": "6557a58f",
   "metadata": {
    "vscode": {
     "languageId": "plaintext"
    }
   },
   "outputs": [],
   "source": [
    "statnet = importr(\"statnet\")\n",
    "pandas2ri.activate()\n",
    "\n",
    "# Convert the NetworkX graph to an R 'network' object\n",
    "with localconverter(ro.default_converter + pandas2ri.converter):\n",
    "    r_data = ro.conversion.py2rpy(data)"
   ]
  },
  {
   "cell_type": "code",
   "execution_count": null,
   "id": "50e09b5d",
   "metadata": {
    "vscode": {
     "languageId": "plaintext"
    }
   },
   "outputs": [],
   "source": []
  },
  {
   "cell_type": "code",
   "execution_count": null,
   "id": "e64a9bac",
   "metadata": {
    "vscode": {
     "languageId": "plaintext"
    }
   },
   "outputs": [],
   "source": [
    "r_edges = r(\"as.matrix\")(r_data)\n",
    "r_graph = statnet.network(r_edges, matrix_type=\"edgelist\", directed=False)\n",
    "\n",
    "# Perform ERGM\n",
    "ergm_model = statnet.ergm(r_graph ~ statnet.edges() + statnet.nodematch(\"weight\"))\n",
    "print(ergm_model)"
   ]
  },
  {
   "cell_type": "code",
   "execution_count": null,
   "id": "a5fff355",
   "metadata": {
    "vscode": {
     "languageId": "plaintext"
    }
   },
   "outputs": [],
   "source": []
  }
 ],
 "metadata": {
  "kernelspec": {
   "display_name": "Python 3 (ipykernel)",
   "language": "python",
   "name": "python3"
  },
  "language_info": {
   "codemirror_mode": {
    "name": "ipython",
    "version": 3
   },
   "file_extension": ".py",
   "mimetype": "text/x-python",
   "name": "python",
   "nbconvert_exporter": "python",
   "pygments_lexer": "ipython3",
   "version": "3.9.12"
  }
 },
 "nbformat": 4,
 "nbformat_minor": 5
}
