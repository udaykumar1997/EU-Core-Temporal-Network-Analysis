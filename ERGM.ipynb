{
 "cells": [
  {
   "cell_type": "code",
   "execution_count": 15,
   "id": "8686e1d7",
   "metadata": {},
   "outputs": [],
   "source": [
    "import pandas as pd\n",
    "import networkx as nx\n",
    "from networkx.algorithms import bipartite\n",
    "import numpy as np\n",
    "import matplotlib.pyplot as plt\n",
    "import seaborn as sns\n",
    "from datetime import timedelta\n",
    "import os"
   ]
  },
  {
   "cell_type": "code",
   "execution_count": 16,
   "id": "596706b0",
   "metadata": {},
   "outputs": [],
   "source": [
    "data_dir = 'C:/Users/udayk/OneDrive - stevens.edu/Documents/GitHub/sna-project/data'\n",
    "os.chdir(data_dir)\n",
    "filename='email-Eu-core-temporal.txt'\n",
    "# Read the dataset\n",
    "data = pd.read_csv(filename, delimiter=\" \", header=None, names=[\"node1\", \"node2\", \"weight\"])"
   ]
  },
  {
   "cell_type": "code",
   "execution_count": 17,
   "id": "051534b6",
   "metadata": {},
   "outputs": [],
   "source": [
    "# Create a graph\n",
    "G = nx.Graph()"
   ]
  },
  {
   "cell_type": "code",
   "execution_count": 18,
   "id": "efd3fab1",
   "metadata": {},
   "outputs": [],
   "source": [
    "# Add edges with weight attribute\n",
    "for idx, row in data.iterrows():\n",
    "    G.add_edge(row[\"node1\"], row[\"node2\"], weight=row[\"weight\"])\n",
    "\n",
    "# Calculate some network metrics\n",
    "num_nodes = G.number_of_nodes()\n",
    "num_edges = G.number_of_edges()\n",
    "density = nx.density(G)\n",
    "degree_distribution = dict(G.degree())\n",
    "average_degree = np.mean(list(degree_distribution.values()))"
   ]
  },
  {
   "cell_type": "code",
   "execution_count": 19,
   "id": "06b7c5f2",
   "metadata": {},
   "outputs": [
    {
     "name": "stdout",
     "output_type": "stream",
     "text": [
      "Number of nodes: 986\n",
      "Number of edges: 16064\n",
      "Density: 0.033080384262929745\n",
      "Average degree: 32.5841784989858\n"
     ]
    }
   ],
   "source": [
    "# Print metrics\n",
    "print(f\"Number of nodes: {num_nodes}\")\n",
    "print(f\"Number of edges: {num_edges}\")\n",
    "print(f\"Density: {density}\")\n",
    "print(f\"Average degree: {average_degree}\")\n",
    "\n",
    "# Perform ERGM\n",
    "# ERGM is currently not supported directly in NetworkX, but you can use the R package `statnet` with the `rpy2` package to call R functions from Python\n",
    "# Installation: pip install rpy2\n",
    "# In R: install.packages('statnet')"
   ]
  },
  {
   "cell_type": "code",
   "execution_count": 20,
   "id": "d01ed5e8",
   "metadata": {},
   "outputs": [],
   "source": [
    "import rpy2.robjects as ro\n",
    "from rpy2.robjects.packages import importr\n",
    "from rpy2.robjects import r, pandas2ri\n",
    "from rpy2.robjects.conversion import localconverter"
   ]
  },
  {
   "cell_type": "code",
   "execution_count": 21,
   "id": "6557a58f",
   "metadata": {},
   "outputs": [],
   "source": [
    "statnet = importr(\"statnet\")\n",
    "pandas2ri.activate()\n",
    "\n",
    "# Convert the NetworkX graph to an R 'network' object\n",
    "with localconverter(ro.default_converter + pandas2ri.converter):\n",
    "    r_data = ro.conversion.py2rpy(data)"
   ]
  },
  {
   "cell_type": "code",
   "execution_count": 22,
   "id": "e64a9bac",
   "metadata": {},
   "outputs": [
    {
     "ename": "SyntaxError",
     "evalue": "invalid syntax (3446719143.py, line 5)",
     "output_type": "error",
     "traceback": [
      "\u001b[1;36m  Input \u001b[1;32mIn [22]\u001b[1;36m\u001b[0m\n\u001b[1;33m    ergm_model = statnet.ergm(r_graph ~ statnet.edges() + statnet.nodematch(\"weight\"))\u001b[0m\n\u001b[1;37m                                      ^\u001b[0m\n\u001b[1;31mSyntaxError\u001b[0m\u001b[1;31m:\u001b[0m invalid syntax\n"
     ]
    }
   ],
   "source": [
    "r_edges = r(\"as.matrix\")(r_data)\n",
    "r_graph = statnet.network(r_edges, matrix_type=\"edgelist\", directed=False)\n",
    "\n",
    "# Perform ERGM\n",
    "ergm_model = statnet.ergm(r_graph ~ statnet.edges() + statnet.nodematch(\"weight\"))\n",
    "print(ergm_model)"
   ]
  },
  {
   "cell_type": "code",
   "execution_count": 23,
   "id": "a5fff355",
   "metadata": {},
   "outputs": [
    {
     "ename": "SyntaxError",
     "evalue": "invalid syntax (1349201938.py, line 3)",
     "output_type": "error",
     "traceback": [
      "\u001b[1;36m  Input \u001b[1;32mIn [23]\u001b[1;36m\u001b[0m\n\u001b[1;33m    ergm_model = statnet.ergm(r_graph ~ ergm_formula)\u001b[0m\n\u001b[1;37m                                      ^\u001b[0m\n\u001b[1;31mSyntaxError\u001b[0m\u001b[1;31m:\u001b[0m invalid syntax\n"
     ]
    }
   ],
   "source": [
    "# Perform ERGM\n",
    "ergm_formula = \"edges | nodematch('weight')\"\n",
    "ergm_model = statnet.ergm(r_graph ~ ergm_formula)\n",
    "print(ergm_model)\n"
   ]
  },
  {
   "cell_type": "code",
   "execution_count": null,
   "id": "42419c41",
   "metadata": {},
   "outputs": [],
   "source": []
  }
 ],
 "metadata": {
  "kernelspec": {
   "display_name": "Python 3 (ipykernel)",
   "language": "python",
   "name": "python3"
  },
  "language_info": {
   "codemirror_mode": {
    "name": "ipython",
    "version": 3
   },
   "file_extension": ".py",
   "mimetype": "text/x-python",
   "name": "python",
   "nbconvert_exporter": "python",
   "pygments_lexer": "ipython3",
   "version": "3.9.12"
  }
 },
 "nbformat": 4,
 "nbformat_minor": 5
}
